{
 "cells": [
  {
   "cell_type": "code",
   "execution_count": 1,
   "id": "40cf87c3",
   "metadata": {},
   "outputs": [],
   "source": [
    "import os\n",
    "import time\n",
    "\n",
    "\n",
    "import numpy as np\n",
    "import scipy as sp\n",
    "\n",
    "import torch\n",
    "import torch.nn as nn\n",
    "import torch.nn.functional as F\n",
    "import torch.optim as optim\n",
    "import torchvision.transforms as transforms\n",
    "\n",
    "from PIL import Image, ImageFile\n",
    "import matplotlib.pyplot as plt\n",
    "import matplotlib as mpl\n",
    "import seaborn as sns\n",
    "\n",
    "from layers import ContentLoss, StyleLoss, Normalization\n",
    "from utils import gram_matrix, loader, unloader, image_loader, imshow\n",
    "from utils import plot_loss_history, create_collage\n",
    "from create_train_model import create_nst_model, get_input_optimizer, run_style_transfer\n",
    "\n",
    "ImageFile.MAXBLOCK = 2**20\n",
    "%matplotlib inline"
   ]
  },
  {
   "cell_type": "markdown",
   "id": "59533e5f",
   "metadata": {},
   "source": [
    "#### defualt settings"
   ]
  },
  {
   "cell_type": "code",
   "execution_count": 2,
   "id": "5af11934",
   "metadata": {},
   "outputs": [],
   "source": [
    "history_loss = []"
   ]
  },
  {
   "cell_type": "code",
   "execution_count": 3,
   "id": "88c154fe",
   "metadata": {},
   "outputs": [
    {
     "data": {
      "text/plain": [
       "device(type='cuda')"
      ]
     },
     "execution_count": 3,
     "metadata": {},
     "output_type": "execute_result"
    }
   ],
   "source": [
    "device = torch.device(\"cuda\" if torch.cuda.is_available() else \"cpu\")\n",
    "device"
   ]
  },
  {
   "cell_type": "code",
   "execution_count": 4,
   "id": "a7b95293",
   "metadata": {},
   "outputs": [],
   "source": [
    "content_layers_default = [\"conv4_2\"]\n",
    "style_layers_default = [\"conv1_1\", \"conv2_1\", \"conv3_1\", \"conv4_1\", \"conv5_1\"]"
   ]
  },
  {
   "cell_type": "code",
   "execution_count": 5,
   "id": "051cd1ee",
   "metadata": {},
   "outputs": [],
   "source": [
    "vgg_19_layers_names = {\n",
    "    0: \"conv1_1\",\n",
    "    1: \"relu1_1\",\n",
    "    2: \"conv1_2\",\n",
    "    3: \"relu1_2\",\n",
    "    4: \"pool1\",\n",
    "    5: \"conv2_1\",\n",
    "    6: \"relu2_1\",\n",
    "    7: \"conv2_2\",\n",
    "    8: \"relu2_2\",\n",
    "    9: \"pool2\",\n",
    "    10: \"conv3_1\",\n",
    "    11: \"relu3_1\",\n",
    "    12: \"conv3_2\",\n",
    "    13: \"relu3_2\",\n",
    "    14: \"conv3_3\",\n",
    "    15: \"relu3_3\",\n",
    "    16: \"conv3_4\",\n",
    "    17: \"relu3_4\",\n",
    "    18: \"pool3\",\n",
    "    19: \"conv4_1\",\n",
    "    20: \"relu4_1\",\n",
    "    21: \"conv4_2\",\n",
    "    22: \"relu4_2\",\n",
    "    23: \"conv4_3\",\n",
    "    24: \"relu4_3\",\n",
    "    25: \"conv4_4\",\n",
    "    26: \"relu4_4\",\n",
    "    27: \"pool4\",\n",
    "    28: \"conv5_1\",\n",
    "    29: \"relu5_1\",\n",
    "    30: \"conv5_2\",\n",
    "    31: \"relu5_2\",\n",
    "    32: \"conv5_3\",\n",
    "    33: \"relu5_3\",\n",
    "    34: \"conv5_4\",\n",
    "    35: \"relu5_4\",\n",
    "    36: \"pool5\"\n",
    "}"
   ]
  },
  {
   "cell_type": "code",
   "execution_count": null,
   "id": "b38e57f1",
   "metadata": {},
   "outputs": [],
   "source": [
    "vgg19_pretrained = torch.hub.load('pytorch/vision:v0.9.0', 'vgg19', pretrained=True).to(device)"
   ]
  },
  {
   "cell_type": "code",
   "execution_count": 7,
   "id": "e086ad5a",
   "metadata": {},
   "outputs": [],
   "source": [
    "vgg19_normalization_mean = torch.tensor([0.485, 0.456, 0.406]).to(device)\n",
    "vgg19_normalization_std = torch.tensor([0.229, 0.224, 0.225]).to(device)"
   ]
  },
  {
   "cell_type": "code",
   "execution_count": 8,
   "id": "c9d92c85",
   "metadata": {},
   "outputs": [],
   "source": [
    "imgsize = 256"
   ]
  },
  {
   "cell_type": "markdown",
   "id": "0f9ae8b6",
   "metadata": {},
   "source": [
    "#### neural style transfer"
   ]
  },
  {
   "cell_type": "code",
   "execution_count": 9,
   "id": "eb775278",
   "metadata": {},
   "outputs": [],
   "source": [
    "path_to_content = # path to content image\n",
    "path_to_style = # path to style image"
   ]
  },
  {
   "cell_type": "code",
   "execution_count": 10,
   "id": "28e1821d",
   "metadata": {},
   "outputs": [],
   "source": [
    "content_img = image_loader(path_to_content)\n",
    "style_img = image_loader(path_to_style)"
   ]
  },
  {
   "cell_type": "code",
   "execution_count": null,
   "id": "2299667d",
   "metadata": {},
   "outputs": [],
   "source": [
    "# plot style and content images\n",
    "input_img = content_img.clone() # input image is content image, because cold start(like Gaussian noise) is worse than this method\n",
    "\n",
    "plt.figure()\n",
    "imshow(input_img, title='input image')\n",
    "\n",
    "plt.figure()\n",
    "imshow(style_img, title='style image')"
   ]
  },
  {
   "cell_type": "code",
   "execution_count": null,
   "id": "6993fa30",
   "metadata": {},
   "outputs": [],
   "source": [
    "output = run_style_transfer(\n",
    "    pretrained_vgg19_model=vgg19_pretrained,\n",
    "    content_img=content_img,\n",
    "    style_img=style_img,\n",
    "    save_folder=None, # folder where you want to save results of nst steps\n",
    "    normalization_mean=vgg19_normalization_mean,\n",
    "    normalization_std=vgg19_normalization_std,\n",
    "    input_img=input_img,\n",
    "    num_steps=2000,\n",
    "    style_weight=1e7, # variants: 1e4, 1e5, 1e6, 1e7\n",
    "    content_weight=1,\n",
    "    return_history_loss=False)"
   ]
  },
  {
   "cell_type": "code",
   "execution_count": null,
   "id": "434de300",
   "metadata": {},
   "outputs": [],
   "source": []
  },
  {
   "cell_type": "code",
   "execution_count": null,
   "id": "d73c96b6",
   "metadata": {},
   "outputs": [],
   "source": []
  }
 ],
 "metadata": {
  "kernelspec": {
   "display_name": "Python 3",
   "language": "python",
   "name": "python3"
  },
  "language_info": {
   "codemirror_mode": {
    "name": "ipython",
    "version": 3
   },
   "file_extension": ".py",
   "mimetype": "text/x-python",
   "name": "python",
   "nbconvert_exporter": "python",
   "pygments_lexer": "ipython3",
   "version": "3.9.3"
  }
 },
 "nbformat": 4,
 "nbformat_minor": 5
}
